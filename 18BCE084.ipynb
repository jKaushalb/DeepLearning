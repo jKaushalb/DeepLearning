{
 "cells": [
  {
   "cell_type": "code",
   "execution_count": 14,
   "metadata": {},
   "outputs": [],
   "source": [
    "import keras\n",
    "from keras.models import Sequential\n",
    "from keras.layers import Dense,Conv2D,MaxPool2D,Dropout,Flatten\n",
    "from keras.datasets  import mnist\n",
    "from keras.utils import np_utils\n",
    "from sklearn import metrics\n",
    "import numpy as np\n",
    "#import pandas as pd\n",
    "import tensorflow"
   ]
  },
  {
   "cell_type": "code",
   "execution_count": 21,
   "metadata": {},
   "outputs": [
    {
     "name": "stdout",
     "output_type": "stream",
     "text": [
      "(60000, 28, 28) \t (60000,)\n",
      "(60000, 28, 28, 1) (10000, 28, 28, 1)\n",
      "(60000, 10) (10000, 10)\n"
     ]
    }
   ],
   "source": [
    "#prepprocessing\n",
    "(xtrain,ytrain),(xtest,ytest)=mnist.load_data()\n",
    "print(xtrain.shape,'\\t',ytrain.shape)\n",
    "xtrain=xtrain.reshape(xtrain.shape[0],xtrain.shape[1],xtrain.shape[2],1).astype('float32')\n",
    "xtest=xtest.reshape(xtest.shape[0],28,28,1).astype('float32')\n",
    "print(xtrain.shape,xtest.shape)\n",
    "\n",
    "ytrain=np_utils.to_categorical(ytrain)\n",
    "test=ytest.copy()\n",
    "ytest=np_utils.to_categorical(ytest)\n",
    "print(ytrain.shape,ytest.shape)\n"
   ]
  },
  {
   "cell_type": "code",
   "execution_count": 28,
   "metadata": {},
   "outputs": [
    {
     "name": "stdout",
     "output_type": "stream",
     "text": [
      "Epoch 1/10\n",
      "120/120 - 14s - loss: 4.9077 - accuracy: 0.8107\n",
      "Epoch 2/10\n",
      "120/120 - 14s - loss: 0.2141 - accuracy: 0.9420\n",
      "Epoch 3/10\n",
      "120/120 - 15s - loss: 0.1317 - accuracy: 0.9629\n",
      "Epoch 4/10\n",
      "120/120 - 16s - loss: 0.0915 - accuracy: 0.9735\n",
      "Epoch 5/10\n",
      "120/120 - 15s - loss: 0.0730 - accuracy: 0.9778\n",
      "Epoch 6/10\n",
      "120/120 - 17s - loss: 0.0573 - accuracy: 0.9823\n",
      "Epoch 7/10\n",
      "120/120 - 16s - loss: 0.0487 - accuracy: 0.9844\n",
      "Epoch 8/10\n",
      "120/120 - 16s - loss: 0.0404 - accuracy: 0.9870\n",
      "Epoch 9/10\n",
      "120/120 - 16s - loss: 0.0337 - accuracy: 0.9895\n",
      "Epoch 10/10\n",
      "120/120 - 16s - loss: 0.0292 - accuracy: 0.9909\n"
     ]
    },
    {
     "data": {
      "text/plain": [
       "<tensorflow.python.keras.callbacks.History at 0x22122b61d30>"
      ]
     },
     "execution_count": 28,
     "metadata": {},
     "output_type": "execute_result"
    }
   ],
   "source": [
    "#making architecture\n",
    "model=Sequential()\n",
    "model.add(Conv2D(32,(5,5),input_shape=(28,28,1),activation='relu'))\n",
    "model.add(MaxPool2D(pool_size=(2,2)))\n",
    "model.add(Dropout(.2))\n",
    "model.add(Flatten())\n",
    "model.add(Dense(128,activation='relu'))\n",
    "model.add(Dense(ytest.shape[1],activation='softmax'))\n",
    "model.compile(loss='categorical_crossentropy',optimizer='adam',metrics=['accuracy'])\n",
    "model.fit(xtrain,ytrain,batch_size=500,epochs=10,verbose=2)\n"
   ]
  },
  {
   "cell_type": "code",
   "execution_count": 29,
   "metadata": {},
   "outputs": [
    {
     "name": "stdout",
     "output_type": "stream",
     "text": [
      "accuracy\n",
      " 0.983\n",
      "[[ 969    0    2    0    0    0    4    1    3    1]\n",
      " [   0 1126    2    0    0    2    2    0    3    0]\n",
      " [   2    2 1018    1    1    0    2    4    2    0]\n",
      " [   0    0    1 1001    0    3    0    1    2    2]\n",
      " [   0    1    4    0  961    0    1    1    3   11]\n",
      " [   2    0    0    6    0  878    3    0    2    1]\n",
      " [   2    2    1    0    2    3  947    0    1    0]\n",
      " [   0    5   11    1    2    0    0 1003    2    4]\n",
      " [   9    0    3    1    3    9    0    2  944    3]\n",
      " [   0    5    0    4    6    5    0    2    4  983]]\n",
      "classification report\n",
      "               precision    recall  f1-score   support\n",
      "\n",
      "           0       0.98      0.99      0.99       980\n",
      "           1       0.99      0.99      0.99      1135\n",
      "           2       0.98      0.99      0.98      1032\n",
      "           3       0.99      0.99      0.99      1010\n",
      "           4       0.99      0.98      0.98       982\n",
      "           5       0.98      0.98      0.98       892\n",
      "           6       0.99      0.99      0.99       958\n",
      "           7       0.99      0.98      0.98      1028\n",
      "           8       0.98      0.97      0.97       974\n",
      "           9       0.98      0.97      0.98      1009\n",
      "\n",
      "    accuracy                           0.98     10000\n",
      "   macro avg       0.98      0.98      0.98     10000\n",
      "weighted avg       0.98      0.98      0.98     10000\n",
      "\n"
     ]
    }
   ],
   "source": [
    "#testing and prediction\n",
    "ypred=model.predict(xtest)\n",
    "ypred=np.argmax(ypred,axis=1)\n",
    "#print(\"predictions\\n\",ypred)\n",
    "print(\"accuracy\\n\",metrics.accuracy_score(test,ypred))\n",
    "print(metrics.confusion_matrix(test,ypred))\n",
    "print(\"classification report\\n\",metrics.classification_report(test,ypred))"
   ]
  },
  {
   "cell_type": "code",
   "execution_count": null,
   "metadata": {},
   "outputs": [],
   "source": []
  }
 ],
 "metadata": {
  "kernelspec": {
   "display_name": "Python 3",
   "language": "python",
   "name": "python3"
  },
  "language_info": {
   "codemirror_mode": {
    "name": "ipython",
    "version": 3
   },
   "file_extension": ".py",
   "mimetype": "text/x-python",
   "name": "python",
   "nbconvert_exporter": "python",
   "pygments_lexer": "ipython3",
   "version": "3.7.4"
  }
 },
 "nbformat": 4,
 "nbformat_minor": 5
}
