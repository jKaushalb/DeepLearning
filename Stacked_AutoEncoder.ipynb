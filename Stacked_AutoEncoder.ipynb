{
  "nbformat": 4,
  "nbformat_minor": 0,
  "metadata": {
    "colab": {
      "name": "DL_prac6_stackedAutoEncoder.ipynb",
      "provenance": []
    },
    "kernelspec": {
      "name": "python3",
      "display_name": "Python 3"
    },
    "language_info": {
      "name": "python"
    },
    "accelerator": "GPU"
  },
  "cells": [
    {
      "cell_type": "code",
      "metadata": {
        "id": "RaqM9NUGA0x-"
      },
      "source": [
        "from tensorflow.keras.layers import Dense, MaxPool2D, Conv2D, Dropout, Flatten, Input\n",
        "from tensorflow.keras.models import Sequential\n",
        "from tensorflow.keras.utils import to_categorical\n",
        "from tensorflow.keras.datasets import mnist\n",
        "import pandas as pd\n",
        "import numpy as np\n",
        "import tensorflow \n",
        "from sklearn import metrics\n",
        "from tensorflow.keras import Model"
      ],
      "execution_count": 19,
      "outputs": []
    },
    {
      "cell_type": "code",
      "metadata": {
        "colab": {
          "base_uri": "https://localhost:8080/"
        },
        "id": "5rRtVgTyBMLt",
        "outputId": "74126f8a-6374-4900-f6f7-731847bd87b5"
      },
      "source": [
        "(X_train, Y_train), (X_test, Y_test) = mnist.load_data()\n",
        "X_train.shape, X_test.shape"
      ],
      "execution_count": 20,
      "outputs": [
        {
          "output_type": "execute_result",
          "data": {
            "text/plain": [
              "((60000, 28, 28), (10000, 28, 28))"
            ]
          },
          "metadata": {
            "tags": []
          },
          "execution_count": 20
        }
      ]
    },
    {
      "cell_type": "code",
      "metadata": {
        "colab": {
          "base_uri": "https://localhost:8080/"
        },
        "id": "XY2QXhk8BZiZ",
        "outputId": "cffcf39f-3ae4-452f-ef84-2b0ae5cfdc0c"
      },
      "source": [
        "#preprocessing \n",
        "X_train = X_train.reshape((X_train.shape[0],784)).astype('float32')\n",
        "X_test = X_test.reshape((X_test.shape[0],784)).astype('float32')\n",
        "print(X_train.shape, X_test.shape)\n",
        "\n",
        "\n",
        "y_train = to_categorical(Y_train)\n",
        "y_test = to_categorical(Y_test)\n",
        "\n",
        "#normalization\n",
        "X_train = X_train/255\n",
        "X_test = X_test/255"
      ],
      "execution_count": 21,
      "outputs": [
        {
          "output_type": "stream",
          "text": [
            "(60000, 784) (10000, 784)\n"
          ],
          "name": "stdout"
        }
      ]
    },
    {
      "cell_type": "code",
      "metadata": {
        "colab": {
          "base_uri": "https://localhost:8080/"
        },
        "id": "wYWCIYFGCTop",
        "outputId": "35d30d34-e9c5-46bd-9f81-5c035ea9bcdb"
      },
      "source": [
        "# Vanilla Autoencoder \n",
        "input_size = 784\n",
        "hidden_size = 150\n",
        "output_size = 784\n",
        "\n",
        "in1 = Input(shape=(input_size,))\n",
        "hidd1 = Dense(hidden_size, activation='sigmoid')(in1)\n",
        "res1 = Dense(output_size, activation='sigmoid')(hidd1)\n",
        "\n",
        "auto1 = Model(inputs = in1, outputs = res1)\n",
        "auto1.summary()\n",
        "auto1.compile(loss = 'mse', optimizer='adam', metrics=['accuracy'])"
      ],
      "execution_count": 22,
      "outputs": [
        {
          "output_type": "stream",
          "text": [
            "Model: \"model_8\"\n",
            "_________________________________________________________________\n",
            "Layer (type)                 Output Shape              Param #   \n",
            "=================================================================\n",
            "input_6 (InputLayer)         [(None, 784)]             0         \n",
            "_________________________________________________________________\n",
            "dense_8 (Dense)              (None, 150)               117750    \n",
            "_________________________________________________________________\n",
            "dense_9 (Dense)              (None, 784)               118384    \n",
            "=================================================================\n",
            "Total params: 236,134\n",
            "Trainable params: 236,134\n",
            "Non-trainable params: 0\n",
            "_________________________________________________________________\n"
          ],
          "name": "stdout"
        }
      ]
    },
    {
      "cell_type": "code",
      "metadata": {
        "colab": {
          "base_uri": "https://localhost:8080/"
        },
        "id": "-1x96xyMDI6l",
        "outputId": "e8cd7022-a6df-4b00-ece0-ff672868853b"
      },
      "source": [
        "auto1.compile(loss=\"mean_squared_error\",optimizer='adam',metrics=['accuracy'])\n",
        "auto1.fit(X_train,X_train,batch_size = 128,  epochs=10)"
      ],
      "execution_count": 23,
      "outputs": [
        {
          "output_type": "stream",
          "text": [
            "Epoch 1/10\n",
            "469/469 [==============================] - 2s 3ms/step - loss: 0.0751 - accuracy: 0.0149\n",
            "Epoch 2/10\n",
            "469/469 [==============================] - 1s 3ms/step - loss: 0.0313 - accuracy: 0.0109\n",
            "Epoch 3/10\n",
            "469/469 [==============================] - 1s 3ms/step - loss: 0.0203 - accuracy: 0.0109\n",
            "Epoch 4/10\n",
            "469/469 [==============================] - 1s 3ms/step - loss: 0.0146 - accuracy: 0.0118\n",
            "Epoch 5/10\n",
            "469/469 [==============================] - 1s 3ms/step - loss: 0.0113 - accuracy: 0.0133\n",
            "Epoch 6/10\n",
            "469/469 [==============================] - 1s 3ms/step - loss: 0.0092 - accuracy: 0.0137\n",
            "Epoch 7/10\n",
            "469/469 [==============================] - 1s 3ms/step - loss: 0.0078 - accuracy: 0.0133\n",
            "Epoch 8/10\n",
            "469/469 [==============================] - 1s 3ms/step - loss: 0.0068 - accuracy: 0.0132\n",
            "Epoch 9/10\n",
            "469/469 [==============================] - 1s 3ms/step - loss: 0.0060 - accuracy: 0.0135\n",
            "Epoch 10/10\n",
            "469/469 [==============================] - 1s 3ms/step - loss: 0.0053 - accuracy: 0.0142\n"
          ],
          "name": "stdout"
        },
        {
          "output_type": "execute_result",
          "data": {
            "text/plain": [
              "<tensorflow.python.keras.callbacks.History at 0x7f75102e4a10>"
            ]
          },
          "metadata": {
            "tags": []
          },
          "execution_count": 23
        }
      ]
    },
    {
      "cell_type": "code",
      "metadata": {
        "colab": {
          "base_uri": "https://localhost:8080/"
        },
        "id": "MkuuBDsaDX7-",
        "outputId": "69a3f130-e11c-44f0-e7c2-a96d611fa81b"
      },
      "source": [
        "#info about model parameters\n",
        "print(type(auto1.layers[1].get_weights()[0]))\n",
        "print(type(auto1.layers[1].get_weights()[1]))\n",
        "print(auto1.layers[1].get_weights()[0].shape)\n",
        "print(auto1.layers[1].get_weights()[1].shape)"
      ],
      "execution_count": 24,
      "outputs": [
        {
          "output_type": "stream",
          "text": [
            "<class 'numpy.ndarray'>\n",
            "<class 'numpy.ndarray'>\n",
            "(784, 150)\n",
            "(150,)\n"
          ],
          "name": "stdout"
        }
      ]
    },
    {
      "cell_type": "markdown",
      "metadata": {
        "id": "NGj63OiZJG4B"
      },
      "source": [
        "# Making Stacked Auto Encoder"
      ]
    },
    {
      "cell_type": "code",
      "metadata": {
        "id": "dlmhqUsdECoa"
      },
      "source": [
        "\n",
        "auto1_hidden = auto1.layers[1].output\n",
        "auto1_trimmed = Model(inputs = in1, outputs = auto1_hidden)\n",
        "X_train_2 = auto1_trimmed.predict(X_train)\n",
        "X_test_2 = auto1_trimmed.predict(X_test) "
      ],
      "execution_count": 25,
      "outputs": []
    },
    {
      "cell_type": "code",
      "metadata": {
        "colab": {
          "base_uri": "https://localhost:8080/"
        },
        "id": "T5yRgVL-JNIA",
        "outputId": "dab22c7d-a4b2-43f9-f574-7f0ce21c7262"
      },
      "source": [
        "x_2 = Input(shape=(150,))\n",
        "h_2 = Dense(units=75, activation='sigmoid')(x_2)\n",
        "r_2 = Dense(units=150, activation='sigmoid')(h_2)\n",
        "\n",
        "auto_2 = Model(inputs= x_2, outputs= r_2)\n",
        "auto_2.compile(loss='mse', optimizer='adam', metrics=['accuracy'])\n",
        "auto_2.fit(X_train_2,X_train_2,epochs=5,verbose=1)"
      ],
      "execution_count": 26,
      "outputs": [
        {
          "output_type": "stream",
          "text": [
            "Epoch 1/5\n",
            "1875/1875 [==============================] - 3s 1ms/step - loss: 0.0729 - accuracy: 0.0598\n",
            "Epoch 2/5\n",
            "1875/1875 [==============================] - 3s 1ms/step - loss: 0.0215 - accuracy: 0.1328\n",
            "Epoch 3/5\n",
            "1875/1875 [==============================] - 3s 1ms/step - loss: 0.0116 - accuracy: 0.1696\n",
            "Epoch 4/5\n",
            "1875/1875 [==============================] - 3s 1ms/step - loss: 0.0084 - accuracy: 0.2079\n",
            "Epoch 5/5\n",
            "1875/1875 [==============================] - 3s 1ms/step - loss: 0.0068 - accuracy: 0.2284\n"
          ],
          "name": "stdout"
        },
        {
          "output_type": "execute_result",
          "data": {
            "text/plain": [
              "<tensorflow.python.keras.callbacks.History at 0x7f75100fd090>"
            ]
          },
          "metadata": {
            "tags": []
          },
          "execution_count": 26
        }
      ]
    },
    {
      "cell_type": "code",
      "metadata": {
        "colab": {
          "base_uri": "https://localhost:8080/"
        },
        "id": "jWjNKGQzKvbM",
        "outputId": "4fec951c-6926-4625-b0f0-ce5ea86fc1c4"
      },
      "source": [
        "auto_2_hidden = auto_2.layers[1].output\n",
        "auto_2_trimmed = Model(inputs = x_2, outputs = auto_2_hidden)\n",
        "X_train_3 = auto_2_trimmed.predict(X_train_2)\n",
        "X_test_3 = auto_2_trimmed.predict(X_test_2) \n",
        "print(X_train_3.shape)"
      ],
      "execution_count": 27,
      "outputs": [
        {
          "output_type": "stream",
          "text": [
            "(60000, 75)\n"
          ],
          "name": "stdout"
        }
      ]
    },
    {
      "cell_type": "code",
      "metadata": {
        "colab": {
          "base_uri": "https://localhost:8080/"
        },
        "id": "3qZCatSRKy1Q",
        "outputId": "3bba007f-db8b-4b8e-ac95-91513f9daabd"
      },
      "source": [
        "x_3 = Input(shape=(75,))\n",
        "r_3 = Dense(units=10, activation='softmax')(x_3)\n",
        "\n",
        "classifier = Model(inputs = x_3, outputs = r_3)\n",
        "classifier.compile(loss = 'categorical_crossentropy', optimizer='adam', metrics=['accuracy'])\n",
        "\n",
        "print(classifier.layers[1].get_weights()[0].shape)\n",
        "classifier.fit(X_train_3, y_train, epochs=5)\n",
        "\n"
      ],
      "execution_count": 28,
      "outputs": [
        {
          "output_type": "stream",
          "text": [
            "(75, 10)\n",
            "Epoch 1/5\n",
            "1875/1875 [==============================] - 3s 2ms/step - loss: 1.7886 - accuracy: 0.4955\n",
            "Epoch 2/5\n",
            "1875/1875 [==============================] - 3s 1ms/step - loss: 0.7610 - accuracy: 0.8500\n",
            "Epoch 3/5\n",
            "1875/1875 [==============================] - 3s 1ms/step - loss: 0.5456 - accuracy: 0.8733\n",
            "Epoch 4/5\n",
            "1875/1875 [==============================] - 3s 1ms/step - loss: 0.4617 - accuracy: 0.8819\n",
            "Epoch 5/5\n",
            "1875/1875 [==============================] - 3s 1ms/step - loss: 0.4191 - accuracy: 0.8883\n"
          ],
          "name": "stdout"
        },
        {
          "output_type": "execute_result",
          "data": {
            "text/plain": [
              "<tensorflow.python.keras.callbacks.History at 0x7f750c782810>"
            ]
          },
          "metadata": {
            "tags": []
          },
          "execution_count": 28
        }
      ]
    },
    {
      "cell_type": "code",
      "metadata": {
        "colab": {
          "base_uri": "https://localhost:8080/"
        },
        "id": "nNZImlHRLGpc",
        "outputId": "fad5fec5-8e11-421b-b768-f5f367a957df"
      },
      "source": [
        "print(classifier.evaluate(X_test_3, y_test))"
      ],
      "execution_count": 29,
      "outputs": [
        {
          "output_type": "stream",
          "text": [
            "313/313 [==============================] - 1s 2ms/step - loss: 0.3766 - accuracy: 0.9000\n",
            "[0.37662988901138306, 0.8999999761581421]\n"
          ],
          "name": "stdout"
        }
      ]
    },
    {
      "cell_type": "code",
      "metadata": {
        "id": "Qx7wzrbpLMJf"
      },
      "source": [
        "stack_auto = Sequential()\n",
        "stack_auto.add(auto1.layers[0])\n",
        "stack_auto.add(auto1.layers[1])\n",
        "stack_auto.add(auto_2.layers[1])\n",
        "stack_auto.add(classifier.layers[-1])"
      ],
      "execution_count": 30,
      "outputs": []
    },
    {
      "cell_type": "code",
      "metadata": {
        "colab": {
          "base_uri": "https://localhost:8080/"
        },
        "id": "QHLW4Ci7LxHG",
        "outputId": "1183aabd-c15e-4541-b530-a1d1a5e99086"
      },
      "source": [
        "stack_auto.compile(loss = 'categorical_crossentropy', optimizer='adam', metrics=['accuracy'])\n",
        "print(stack_auto.layers[1].get_weights()[0].shape)\n",
        "print(auto_2.layers[1].get_weights()[0].shape)\n",
        "stack_auto.evaluate(X_test, y_test)"
      ],
      "execution_count": 31,
      "outputs": [
        {
          "output_type": "stream",
          "text": [
            "(150, 75)\n",
            "(150, 75)\n",
            "313/313 [==============================] - 1s 2ms/step - loss: 0.4257 - accuracy: 0.8845\n"
          ],
          "name": "stdout"
        },
        {
          "output_type": "execute_result",
          "data": {
            "text/plain": [
              "[0.37662988901138306, 0.8999999761581421]"
            ]
          },
          "metadata": {
            "tags": []
          },
          "execution_count": 31
        }
      ]
    }
  ]
}
